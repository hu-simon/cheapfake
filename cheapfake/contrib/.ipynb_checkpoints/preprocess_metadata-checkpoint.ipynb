{
 "cells": [
  {
   "cell_type": "code",
   "execution_count": 17,
   "metadata": {},
   "outputs": [],
   "source": [
    "import os\n",
    "import json\n",
    "import glob\n",
    "import itertools"
   ]
  },
  {
   "cell_type": "code",
   "execution_count": 24,
   "metadata": {},
   "outputs": [
    {
     "name": "stdout",
     "output_type": "stream",
     "text": [
      "['/mnt/fs03/shared/datasets/dfdc_train_all/dfdc_train_part_31/metadata.json', '/mnt/fs03/shared/datasets/dfdc_train_all/dfdc_train_part_46/metadata.json', '/mnt/fs03/shared/datasets/dfdc_train_all/dfdc_train_part_28/metadata.json', '/mnt/fs03/shared/datasets/dfdc_train_all/dfdc_train_part_7/metadata.json', '/mnt/fs03/shared/datasets/dfdc_train_all/dfdc_train_part_22/metadata.json', '/mnt/fs03/shared/datasets/dfdc_train_all/dfdc_train_part_10/metadata.json', '/mnt/fs03/shared/datasets/dfdc_train_all/dfdc_train_part_17/metadata.json', '/mnt/fs03/shared/datasets/dfdc_train_all/dfdc_train_part_0/metadata.json', '/mnt/fs03/shared/datasets/dfdc_train_all/dfdc_train_part_25/metadata.json', '/mnt/fs03/shared/datasets/dfdc_train_all/dfdc_train_part_41/metadata.json', '/mnt/fs03/shared/datasets/dfdc_train_all/dfdc_train_part_36/metadata.json', '/mnt/fs03/shared/datasets/dfdc_train_all/dfdc_train_part_38/metadata.json', '/mnt/fs03/shared/datasets/dfdc_train_all/dfdc_train_part_45/metadata.json', '/mnt/fs03/shared/datasets/dfdc_train_all/dfdc_train_part_32/metadata.json', '/mnt/fs03/shared/datasets/dfdc_train_all/dfdc_train_part_21/metadata.json', '/mnt/fs03/shared/datasets/dfdc_train_all/dfdc_train_part_4/metadata.json', '/mnt/fs03/shared/datasets/dfdc_train_all/dfdc_train_part_13/metadata.json', '/mnt/fs03/shared/datasets/dfdc_train_all/dfdc_train_part_19/metadata.json', '/mnt/fs03/shared/datasets/dfdc_train_all/dfdc_train_part_14/metadata.json', '/mnt/fs03/shared/datasets/dfdc_train_all/dfdc_train_part_26/metadata.json', '/mnt/fs03/shared/datasets/dfdc_train_all/dfdc_train_part_9/metadata.json', '/mnt/fs03/shared/datasets/dfdc_train_all/dfdc_train_part_3/metadata.json', '/mnt/fs03/shared/datasets/dfdc_train_all/dfdc_train_part_48/metadata.json', '/mnt/fs03/shared/datasets/dfdc_train_all/dfdc_train_part_35/metadata.json', '/mnt/fs03/shared/datasets/dfdc_train_all/dfdc_train_part_42/metadata.json', '/mnt/fs03/shared/datasets/dfdc_train_all/dfdc_train_part_37/metadata.json', '/mnt/fs03/shared/datasets/dfdc_train_all/dfdc_train_part_40/metadata.json', '/mnt/fs03/shared/datasets/dfdc_train_all/dfdc_train_part_16/metadata.json', '/mnt/fs03/shared/datasets/dfdc_train_all/dfdc_train_part_24/metadata.json', '/mnt/fs03/shared/datasets/dfdc_train_all/dfdc_train_part_1/metadata.json', '/mnt/fs03/shared/datasets/dfdc_train_all/dfdc_train_part_23/metadata.json', '/mnt/fs03/shared/datasets/dfdc_train_all/dfdc_train_part_6/metadata.json', '/mnt/fs03/shared/datasets/dfdc_train_all/dfdc_train_part_29/metadata.json', '/mnt/fs03/shared/datasets/dfdc_train_all/dfdc_train_part_11/metadata.json', '/mnt/fs03/shared/datasets/dfdc_train_all/dfdc_train_part_47/metadata.json', '/mnt/fs03/shared/datasets/dfdc_train_all/dfdc_train_part_30/metadata.json', '/mnt/fs03/shared/datasets/dfdc_train_all/dfdc_train_part_43/metadata.json', '/mnt/fs03/shared/datasets/dfdc_train_all/dfdc_train_part_34/metadata.json', '/mnt/fs03/shared/datasets/dfdc_train_all/dfdc_train_part_49/metadata.json', '/mnt/fs03/shared/datasets/dfdc_train_all/dfdc_train_part_15/metadata.json', '/mnt/fs03/shared/datasets/dfdc_train_all/dfdc_train_part_2/metadata.json', '/mnt/fs03/shared/datasets/dfdc_train_all/dfdc_train_part_8/metadata.json', '/mnt/fs03/shared/datasets/dfdc_train_all/dfdc_train_part_27/metadata.json', '/mnt/fs03/shared/datasets/dfdc_train_all/dfdc_train_part_5/metadata.json', '/mnt/fs03/shared/datasets/dfdc_train_all/dfdc_train_part_20/metadata.json', '/mnt/fs03/shared/datasets/dfdc_train_all/dfdc_train_part_18/metadata.json', '/mnt/fs03/shared/datasets/dfdc_train_all/dfdc_train_part_12/metadata.json', '/mnt/fs03/shared/datasets/dfdc_train_all/dfdc_train_part_33/metadata.json', '/mnt/fs03/shared/datasets/dfdc_train_all/dfdc_train_part_44/metadata.json', '/mnt/fs03/shared/datasets/dfdc_train_all/dfdc_train_part_39/metadata.json']\n"
     ]
    }
   ],
   "source": [
    "root_path = \"/mnt/fs03/shared/datasets/dfdc_train_all\"\n",
    "folders = [f for f in glob.glob(os.path.join(root_path, \"*\")) if not f.startswith(\".\")]\n",
    "json_paths = [glob.glob(os.path.join(folder, \"*.json\")) for folder in folders]\n",
    "json_paths = list(itertools.chain.from_iterable(json_paths))\n",
    "print(json_paths)"
   ]
  },
  {
   "cell_type": "code",
   "execution_count": 25,
   "metadata": {},
   "outputs": [
    {
     "name": "stderr",
     "output_type": "stream",
     "text": [
      "IOPub data rate exceeded.\n",
      "The notebook server will temporarily stop sending output\n",
      "to the client in order to avoid crashing it.\n",
      "To change this limit, set the config variable\n",
      "`--NotebookApp.iopub_data_rate_limit`.\n",
      "\n",
      "Current values:\n",
      "NotebookApp.iopub_data_rate_limit=1000000.0 (bytes/sec)\n",
      "NotebookApp.rate_limit_window=3.0 (secs)\n",
      "\n"
     ]
    }
   ],
   "source": [
    "json_result = list()\n",
    "for f in json_paths:\n",
    "    with open(f, \"r\") as infile:\n",
    "        json_result.append(json.load(infile))\n",
    "        \n",
    "with open(\"./training_metadata.json\", \"w\") as outfile:\n",
    "    json.dump(json_result, outfile)"
   ]
  }
 ],
 "metadata": {
  "kernelspec": {
   "display_name": "Python 3",
   "language": "python",
   "name": "python3"
  },
  "language_info": {
   "codemirror_mode": {
    "name": "ipython",
    "version": 3
   },
   "file_extension": ".py",
   "mimetype": "text/x-python",
   "name": "python",
   "nbconvert_exporter": "python",
   "pygments_lexer": "ipython3",
   "version": "3.8.3"
  }
 },
 "nbformat": 4,
 "nbformat_minor": 4
}

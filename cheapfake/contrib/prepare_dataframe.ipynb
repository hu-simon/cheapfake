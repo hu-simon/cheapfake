{
 "cells": [
  {
   "cell_type": "code",
   "execution_count": 1,
   "metadata": {},
   "outputs": [],
   "source": [
    "import os\n",
    "import time\n",
    "import pandas as pd\n",
    "from tqdm import tqdm\n",
    "from collections import Counter"
   ]
  },
  {
   "cell_type": "code",
   "execution_count": 2,
   "metadata": {},
   "outputs": [],
   "source": [
    "df = pd.read_csv(\"/mnt/fs03/shared/datasets/dfdc_train_all/faces_metadata.csv\")"
   ]
  },
  {
   "cell_type": "code",
   "execution_count": 3,
   "metadata": {},
   "outputs": [
    {
     "data": {
      "text/html": [
       "<div>\n",
       "<style scoped>\n",
       "    .dataframe tbody tr th:only-of-type {\n",
       "        vertical-align: middle;\n",
       "    }\n",
       "\n",
       "    .dataframe tbody tr th {\n",
       "        vertical-align: top;\n",
       "    }\n",
       "\n",
       "    .dataframe thead th {\n",
       "        text-align: right;\n",
       "    }\n",
       "</style>\n",
       "<table border=\"1\" class=\"dataframe\">\n",
       "  <thead>\n",
       "    <tr style=\"text-align: right;\">\n",
       "      <th></th>\n",
       "      <th>Unnamed: 0</th>\n",
       "      <th>File</th>\n",
       "      <th>label</th>\n",
       "      <th>nframes</th>\n",
       "    </tr>\n",
       "  </thead>\n",
       "  <tbody>\n",
       "    <tr>\n",
       "      <th>0</th>\n",
       "      <td>1</td>\n",
       "      <td>/home/mlomnitz/Documents/DFDC/DeepFakeDetectio...</td>\n",
       "      <td>0</td>\n",
       "      <td>145</td>\n",
       "    </tr>\n",
       "    <tr>\n",
       "      <th>1</th>\n",
       "      <td>2</td>\n",
       "      <td>/home/mlomnitz/Documents/DFDC/DeepFakeDetectio...</td>\n",
       "      <td>0</td>\n",
       "      <td>106</td>\n",
       "    </tr>\n",
       "    <tr>\n",
       "      <th>2</th>\n",
       "      <td>11</td>\n",
       "      <td>/home/mlomnitz/Documents/DFDC/DeepFakeDetectio...</td>\n",
       "      <td>0</td>\n",
       "      <td>103</td>\n",
       "    </tr>\n",
       "    <tr>\n",
       "      <th>3</th>\n",
       "      <td>26</td>\n",
       "      <td>/home/mlomnitz/Documents/DFDC/DeepFakeDetectio...</td>\n",
       "      <td>0</td>\n",
       "      <td>150</td>\n",
       "    </tr>\n",
       "    <tr>\n",
       "      <th>4</th>\n",
       "      <td>27</td>\n",
       "      <td>/home/mlomnitz/Documents/DFDC/DeepFakeDetectio...</td>\n",
       "      <td>0</td>\n",
       "      <td>150</td>\n",
       "    </tr>\n",
       "  </tbody>\n",
       "</table>\n",
       "</div>"
      ],
      "text/plain": [
       "   Unnamed: 0                                               File  label  \\\n",
       "0           1  /home/mlomnitz/Documents/DFDC/DeepFakeDetectio...      0   \n",
       "1           2  /home/mlomnitz/Documents/DFDC/DeepFakeDetectio...      0   \n",
       "2          11  /home/mlomnitz/Documents/DFDC/DeepFakeDetectio...      0   \n",
       "3          26  /home/mlomnitz/Documents/DFDC/DeepFakeDetectio...      0   \n",
       "4          27  /home/mlomnitz/Documents/DFDC/DeepFakeDetectio...      0   \n",
       "\n",
       "   nframes  \n",
       "0      145  \n",
       "1      106  \n",
       "2      103  \n",
       "3      150  \n",
       "4      150  "
      ]
     },
     "execution_count": 3,
     "metadata": {},
     "output_type": "execute_result"
    }
   ],
   "source": [
    "df.head()"
   ]
  },
  {
   "cell_type": "code",
   "execution_count": 4,
   "metadata": {},
   "outputs": [],
   "source": [
    "def replace_filename(item):\n",
    "    root_path = \"/mnt/fs03/shared/datasets/dfdc_train_all\"\n",
    "    split_path = item[\"File\"].split(\"/\")[-3:][:-1]\n",
    "    return os.path.join(root_path, os.path.join(split_path[0], split_path[1]))"
   ]
  },
  {
   "cell_type": "code",
   "execution_count": 5,
   "metadata": {},
   "outputs": [],
   "source": [
    "df[\"New_Files\"] = df.apply(replace_filename, axis=1)"
   ]
  },
  {
   "cell_type": "code",
   "execution_count": 6,
   "metadata": {},
   "outputs": [
    {
     "data": {
      "text/html": [
       "<div>\n",
       "<style scoped>\n",
       "    .dataframe tbody tr th:only-of-type {\n",
       "        vertical-align: middle;\n",
       "    }\n",
       "\n",
       "    .dataframe tbody tr th {\n",
       "        vertical-align: top;\n",
       "    }\n",
       "\n",
       "    .dataframe thead th {\n",
       "        text-align: right;\n",
       "    }\n",
       "</style>\n",
       "<table border=\"1\" class=\"dataframe\">\n",
       "  <thead>\n",
       "    <tr style=\"text-align: right;\">\n",
       "      <th></th>\n",
       "      <th>Unnamed: 0</th>\n",
       "      <th>File</th>\n",
       "      <th>label</th>\n",
       "      <th>nframes</th>\n",
       "      <th>New_Files</th>\n",
       "    </tr>\n",
       "  </thead>\n",
       "  <tbody>\n",
       "    <tr>\n",
       "      <th>0</th>\n",
       "      <td>1</td>\n",
       "      <td>/home/mlomnitz/Documents/DFDC/DeepFakeDetectio...</td>\n",
       "      <td>0</td>\n",
       "      <td>145</td>\n",
       "      <td>/mnt/fs03/shared/datasets/dfdc_train_all/dfdc_...</td>\n",
       "    </tr>\n",
       "    <tr>\n",
       "      <th>1</th>\n",
       "      <td>2</td>\n",
       "      <td>/home/mlomnitz/Documents/DFDC/DeepFakeDetectio...</td>\n",
       "      <td>0</td>\n",
       "      <td>106</td>\n",
       "      <td>/mnt/fs03/shared/datasets/dfdc_train_all/dfdc_...</td>\n",
       "    </tr>\n",
       "    <tr>\n",
       "      <th>2</th>\n",
       "      <td>11</td>\n",
       "      <td>/home/mlomnitz/Documents/DFDC/DeepFakeDetectio...</td>\n",
       "      <td>0</td>\n",
       "      <td>103</td>\n",
       "      <td>/mnt/fs03/shared/datasets/dfdc_train_all/dfdc_...</td>\n",
       "    </tr>\n",
       "    <tr>\n",
       "      <th>3</th>\n",
       "      <td>26</td>\n",
       "      <td>/home/mlomnitz/Documents/DFDC/DeepFakeDetectio...</td>\n",
       "      <td>0</td>\n",
       "      <td>150</td>\n",
       "      <td>/mnt/fs03/shared/datasets/dfdc_train_all/dfdc_...</td>\n",
       "    </tr>\n",
       "    <tr>\n",
       "      <th>4</th>\n",
       "      <td>27</td>\n",
       "      <td>/home/mlomnitz/Documents/DFDC/DeepFakeDetectio...</td>\n",
       "      <td>0</td>\n",
       "      <td>150</td>\n",
       "      <td>/mnt/fs03/shared/datasets/dfdc_train_all/dfdc_...</td>\n",
       "    </tr>\n",
       "  </tbody>\n",
       "</table>\n",
       "</div>"
      ],
      "text/plain": [
       "   Unnamed: 0                                               File  label  \\\n",
       "0           1  /home/mlomnitz/Documents/DFDC/DeepFakeDetectio...      0   \n",
       "1           2  /home/mlomnitz/Documents/DFDC/DeepFakeDetectio...      0   \n",
       "2          11  /home/mlomnitz/Documents/DFDC/DeepFakeDetectio...      0   \n",
       "3          26  /home/mlomnitz/Documents/DFDC/DeepFakeDetectio...      0   \n",
       "4          27  /home/mlomnitz/Documents/DFDC/DeepFakeDetectio...      0   \n",
       "\n",
       "   nframes                                          New_Files  \n",
       "0      145  /mnt/fs03/shared/datasets/dfdc_train_all/dfdc_...  \n",
       "1      106  /mnt/fs03/shared/datasets/dfdc_train_all/dfdc_...  \n",
       "2      103  /mnt/fs03/shared/datasets/dfdc_train_all/dfdc_...  \n",
       "3      150  /mnt/fs03/shared/datasets/dfdc_train_all/dfdc_...  \n",
       "4      150  /mnt/fs03/shared/datasets/dfdc_train_all/dfdc_...  "
      ]
     },
     "execution_count": 6,
     "metadata": {},
     "output_type": "execute_result"
    }
   ],
   "source": [
    "df.head()"
   ]
  },
  {
   "cell_type": "code",
   "execution_count": 7,
   "metadata": {},
   "outputs": [],
   "source": [
    "df = df.drop([\"File\"], axis=1)"
   ]
  },
  {
   "cell_type": "code",
   "execution_count": 8,
   "metadata": {},
   "outputs": [
    {
     "data": {
      "text/html": [
       "<div>\n",
       "<style scoped>\n",
       "    .dataframe tbody tr th:only-of-type {\n",
       "        vertical-align: middle;\n",
       "    }\n",
       "\n",
       "    .dataframe tbody tr th {\n",
       "        vertical-align: top;\n",
       "    }\n",
       "\n",
       "    .dataframe thead th {\n",
       "        text-align: right;\n",
       "    }\n",
       "</style>\n",
       "<table border=\"1\" class=\"dataframe\">\n",
       "  <thead>\n",
       "    <tr style=\"text-align: right;\">\n",
       "      <th></th>\n",
       "      <th>Unnamed: 0</th>\n",
       "      <th>label</th>\n",
       "      <th>nframes</th>\n",
       "      <th>New_Files</th>\n",
       "    </tr>\n",
       "  </thead>\n",
       "  <tbody>\n",
       "    <tr>\n",
       "      <th>0</th>\n",
       "      <td>1</td>\n",
       "      <td>0</td>\n",
       "      <td>145</td>\n",
       "      <td>/mnt/fs03/shared/datasets/dfdc_train_all/dfdc_...</td>\n",
       "    </tr>\n",
       "    <tr>\n",
       "      <th>1</th>\n",
       "      <td>2</td>\n",
       "      <td>0</td>\n",
       "      <td>106</td>\n",
       "      <td>/mnt/fs03/shared/datasets/dfdc_train_all/dfdc_...</td>\n",
       "    </tr>\n",
       "    <tr>\n",
       "      <th>2</th>\n",
       "      <td>11</td>\n",
       "      <td>0</td>\n",
       "      <td>103</td>\n",
       "      <td>/mnt/fs03/shared/datasets/dfdc_train_all/dfdc_...</td>\n",
       "    </tr>\n",
       "    <tr>\n",
       "      <th>3</th>\n",
       "      <td>26</td>\n",
       "      <td>0</td>\n",
       "      <td>150</td>\n",
       "      <td>/mnt/fs03/shared/datasets/dfdc_train_all/dfdc_...</td>\n",
       "    </tr>\n",
       "    <tr>\n",
       "      <th>4</th>\n",
       "      <td>27</td>\n",
       "      <td>0</td>\n",
       "      <td>150</td>\n",
       "      <td>/mnt/fs03/shared/datasets/dfdc_train_all/dfdc_...</td>\n",
       "    </tr>\n",
       "  </tbody>\n",
       "</table>\n",
       "</div>"
      ],
      "text/plain": [
       "   Unnamed: 0  label  nframes  \\\n",
       "0           1      0      145   \n",
       "1           2      0      106   \n",
       "2          11      0      103   \n",
       "3          26      0      150   \n",
       "4          27      0      150   \n",
       "\n",
       "                                           New_Files  \n",
       "0  /mnt/fs03/shared/datasets/dfdc_train_all/dfdc_...  \n",
       "1  /mnt/fs03/shared/datasets/dfdc_train_all/dfdc_...  \n",
       "2  /mnt/fs03/shared/datasets/dfdc_train_all/dfdc_...  \n",
       "3  /mnt/fs03/shared/datasets/dfdc_train_all/dfdc_...  \n",
       "4  /mnt/fs03/shared/datasets/dfdc_train_all/dfdc_...  "
      ]
     },
     "execution_count": 8,
     "metadata": {},
     "output_type": "execute_result"
    }
   ],
   "source": [
    "df.head()"
   ]
  },
  {
   "cell_type": "code",
   "execution_count": 9,
   "metadata": {},
   "outputs": [],
   "source": [
    "df = df.rename(columns={\"New_Files\" : \"Files\"})"
   ]
  },
  {
   "cell_type": "code",
   "execution_count": 10,
   "metadata": {},
   "outputs": [
    {
     "data": {
      "text/html": [
       "<div>\n",
       "<style scoped>\n",
       "    .dataframe tbody tr th:only-of-type {\n",
       "        vertical-align: middle;\n",
       "    }\n",
       "\n",
       "    .dataframe tbody tr th {\n",
       "        vertical-align: top;\n",
       "    }\n",
       "\n",
       "    .dataframe thead th {\n",
       "        text-align: right;\n",
       "    }\n",
       "</style>\n",
       "<table border=\"1\" class=\"dataframe\">\n",
       "  <thead>\n",
       "    <tr style=\"text-align: right;\">\n",
       "      <th></th>\n",
       "      <th>Unnamed: 0</th>\n",
       "      <th>label</th>\n",
       "      <th>nframes</th>\n",
       "      <th>Files</th>\n",
       "    </tr>\n",
       "  </thead>\n",
       "  <tbody>\n",
       "    <tr>\n",
       "      <th>0</th>\n",
       "      <td>1</td>\n",
       "      <td>0</td>\n",
       "      <td>145</td>\n",
       "      <td>/mnt/fs03/shared/datasets/dfdc_train_all/dfdc_...</td>\n",
       "    </tr>\n",
       "    <tr>\n",
       "      <th>1</th>\n",
       "      <td>2</td>\n",
       "      <td>0</td>\n",
       "      <td>106</td>\n",
       "      <td>/mnt/fs03/shared/datasets/dfdc_train_all/dfdc_...</td>\n",
       "    </tr>\n",
       "    <tr>\n",
       "      <th>2</th>\n",
       "      <td>11</td>\n",
       "      <td>0</td>\n",
       "      <td>103</td>\n",
       "      <td>/mnt/fs03/shared/datasets/dfdc_train_all/dfdc_...</td>\n",
       "    </tr>\n",
       "    <tr>\n",
       "      <th>3</th>\n",
       "      <td>26</td>\n",
       "      <td>0</td>\n",
       "      <td>150</td>\n",
       "      <td>/mnt/fs03/shared/datasets/dfdc_train_all/dfdc_...</td>\n",
       "    </tr>\n",
       "    <tr>\n",
       "      <th>4</th>\n",
       "      <td>27</td>\n",
       "      <td>0</td>\n",
       "      <td>150</td>\n",
       "      <td>/mnt/fs03/shared/datasets/dfdc_train_all/dfdc_...</td>\n",
       "    </tr>\n",
       "  </tbody>\n",
       "</table>\n",
       "</div>"
      ],
      "text/plain": [
       "   Unnamed: 0  label  nframes  \\\n",
       "0           1      0      145   \n",
       "1           2      0      106   \n",
       "2          11      0      103   \n",
       "3          26      0      150   \n",
       "4          27      0      150   \n",
       "\n",
       "                                               Files  \n",
       "0  /mnt/fs03/shared/datasets/dfdc_train_all/dfdc_...  \n",
       "1  /mnt/fs03/shared/datasets/dfdc_train_all/dfdc_...  \n",
       "2  /mnt/fs03/shared/datasets/dfdc_train_all/dfdc_...  \n",
       "3  /mnt/fs03/shared/datasets/dfdc_train_all/dfdc_...  \n",
       "4  /mnt/fs03/shared/datasets/dfdc_train_all/dfdc_...  "
      ]
     },
     "execution_count": 10,
     "metadata": {},
     "output_type": "execute_result"
    }
   ],
   "source": [
    "df.head()"
   ]
  },
  {
   "cell_type": "code",
   "execution_count": 11,
   "metadata": {},
   "outputs": [
    {
     "data": {
      "text/plain": [
       "['Unnamed: 0', 'label', 'nframes', 'Files']"
      ]
     },
     "execution_count": 11,
     "metadata": {},
     "output_type": "execute_result"
    }
   ],
   "source": [
    "cols = df.columns.tolist()\n",
    "cols"
   ]
  },
  {
   "cell_type": "code",
   "execution_count": 12,
   "metadata": {},
   "outputs": [
    {
     "data": {
      "text/plain": [
       "['Unnamed: 0', 'Files', 'label', 'nframes']"
      ]
     },
     "execution_count": 12,
     "metadata": {},
     "output_type": "execute_result"
    }
   ],
   "source": [
    "cols = cols[:1] + cols[-1:] + cols[1:-1]\n",
    "cols"
   ]
  },
  {
   "cell_type": "code",
   "execution_count": 13,
   "metadata": {},
   "outputs": [],
   "source": [
    "df = df[cols]"
   ]
  },
  {
   "cell_type": "code",
   "execution_count": 14,
   "metadata": {},
   "outputs": [
    {
     "data": {
      "text/html": [
       "<div>\n",
       "<style scoped>\n",
       "    .dataframe tbody tr th:only-of-type {\n",
       "        vertical-align: middle;\n",
       "    }\n",
       "\n",
       "    .dataframe tbody tr th {\n",
       "        vertical-align: top;\n",
       "    }\n",
       "\n",
       "    .dataframe thead th {\n",
       "        text-align: right;\n",
       "    }\n",
       "</style>\n",
       "<table border=\"1\" class=\"dataframe\">\n",
       "  <thead>\n",
       "    <tr style=\"text-align: right;\">\n",
       "      <th></th>\n",
       "      <th>Unnamed: 0</th>\n",
       "      <th>Files</th>\n",
       "      <th>label</th>\n",
       "      <th>nframes</th>\n",
       "    </tr>\n",
       "  </thead>\n",
       "  <tbody>\n",
       "    <tr>\n",
       "      <th>0</th>\n",
       "      <td>1</td>\n",
       "      <td>/mnt/fs03/shared/datasets/dfdc_train_all/dfdc_...</td>\n",
       "      <td>0</td>\n",
       "      <td>145</td>\n",
       "    </tr>\n",
       "    <tr>\n",
       "      <th>1</th>\n",
       "      <td>2</td>\n",
       "      <td>/mnt/fs03/shared/datasets/dfdc_train_all/dfdc_...</td>\n",
       "      <td>0</td>\n",
       "      <td>106</td>\n",
       "    </tr>\n",
       "    <tr>\n",
       "      <th>2</th>\n",
       "      <td>11</td>\n",
       "      <td>/mnt/fs03/shared/datasets/dfdc_train_all/dfdc_...</td>\n",
       "      <td>0</td>\n",
       "      <td>103</td>\n",
       "    </tr>\n",
       "    <tr>\n",
       "      <th>3</th>\n",
       "      <td>26</td>\n",
       "      <td>/mnt/fs03/shared/datasets/dfdc_train_all/dfdc_...</td>\n",
       "      <td>0</td>\n",
       "      <td>150</td>\n",
       "    </tr>\n",
       "    <tr>\n",
       "      <th>4</th>\n",
       "      <td>27</td>\n",
       "      <td>/mnt/fs03/shared/datasets/dfdc_train_all/dfdc_...</td>\n",
       "      <td>0</td>\n",
       "      <td>150</td>\n",
       "    </tr>\n",
       "  </tbody>\n",
       "</table>\n",
       "</div>"
      ],
      "text/plain": [
       "   Unnamed: 0                                              Files  label  \\\n",
       "0           1  /mnt/fs03/shared/datasets/dfdc_train_all/dfdc_...      0   \n",
       "1           2  /mnt/fs03/shared/datasets/dfdc_train_all/dfdc_...      0   \n",
       "2          11  /mnt/fs03/shared/datasets/dfdc_train_all/dfdc_...      0   \n",
       "3          26  /mnt/fs03/shared/datasets/dfdc_train_all/dfdc_...      0   \n",
       "4          27  /mnt/fs03/shared/datasets/dfdc_train_all/dfdc_...      0   \n",
       "\n",
       "   nframes  \n",
       "0      145  \n",
       "1      106  \n",
       "2      103  \n",
       "3      150  \n",
       "4      150  "
      ]
     },
     "execution_count": 14,
     "metadata": {},
     "output_type": "execute_result"
    }
   ],
   "source": [
    "df.head()"
   ]
  },
  {
   "cell_type": "code",
   "execution_count": 15,
   "metadata": {},
   "outputs": [],
   "source": [
    "df.to_csv(\"balanced_metadata_fs03.csv\", index=False)"
   ]
  },
  {
   "cell_type": "code",
   "execution_count": 16,
   "metadata": {},
   "outputs": [],
   "source": [
    "df_test = pd.read_csv(\"balanced_metadata_fs03.csv\")"
   ]
  },
  {
   "cell_type": "code",
   "execution_count": 17,
   "metadata": {},
   "outputs": [
    {
     "data": {
      "text/html": [
       "<div>\n",
       "<style scoped>\n",
       "    .dataframe tbody tr th:only-of-type {\n",
       "        vertical-align: middle;\n",
       "    }\n",
       "\n",
       "    .dataframe tbody tr th {\n",
       "        vertical-align: top;\n",
       "    }\n",
       "\n",
       "    .dataframe thead th {\n",
       "        text-align: right;\n",
       "    }\n",
       "</style>\n",
       "<table border=\"1\" class=\"dataframe\">\n",
       "  <thead>\n",
       "    <tr style=\"text-align: right;\">\n",
       "      <th></th>\n",
       "      <th>Unnamed: 0</th>\n",
       "      <th>Files</th>\n",
       "      <th>label</th>\n",
       "      <th>nframes</th>\n",
       "    </tr>\n",
       "  </thead>\n",
       "  <tbody>\n",
       "    <tr>\n",
       "      <th>0</th>\n",
       "      <td>1</td>\n",
       "      <td>/mnt/fs03/shared/datasets/dfdc_train_all/dfdc_...</td>\n",
       "      <td>0</td>\n",
       "      <td>145</td>\n",
       "    </tr>\n",
       "    <tr>\n",
       "      <th>1</th>\n",
       "      <td>2</td>\n",
       "      <td>/mnt/fs03/shared/datasets/dfdc_train_all/dfdc_...</td>\n",
       "      <td>0</td>\n",
       "      <td>106</td>\n",
       "    </tr>\n",
       "    <tr>\n",
       "      <th>2</th>\n",
       "      <td>11</td>\n",
       "      <td>/mnt/fs03/shared/datasets/dfdc_train_all/dfdc_...</td>\n",
       "      <td>0</td>\n",
       "      <td>103</td>\n",
       "    </tr>\n",
       "    <tr>\n",
       "      <th>3</th>\n",
       "      <td>26</td>\n",
       "      <td>/mnt/fs03/shared/datasets/dfdc_train_all/dfdc_...</td>\n",
       "      <td>0</td>\n",
       "      <td>150</td>\n",
       "    </tr>\n",
       "    <tr>\n",
       "      <th>4</th>\n",
       "      <td>27</td>\n",
       "      <td>/mnt/fs03/shared/datasets/dfdc_train_all/dfdc_...</td>\n",
       "      <td>0</td>\n",
       "      <td>150</td>\n",
       "    </tr>\n",
       "  </tbody>\n",
       "</table>\n",
       "</div>"
      ],
      "text/plain": [
       "   Unnamed: 0                                              Files  label  \\\n",
       "0           1  /mnt/fs03/shared/datasets/dfdc_train_all/dfdc_...      0   \n",
       "1           2  /mnt/fs03/shared/datasets/dfdc_train_all/dfdc_...      0   \n",
       "2          11  /mnt/fs03/shared/datasets/dfdc_train_all/dfdc_...      0   \n",
       "3          26  /mnt/fs03/shared/datasets/dfdc_train_all/dfdc_...      0   \n",
       "4          27  /mnt/fs03/shared/datasets/dfdc_train_all/dfdc_...      0   \n",
       "\n",
       "   nframes  \n",
       "0      145  \n",
       "1      106  \n",
       "2      103  \n",
       "3      150  \n",
       "4      150  "
      ]
     },
     "execution_count": 17,
     "metadata": {},
     "output_type": "execute_result"
    }
   ],
   "source": [
    "df_test.head()"
   ]
  }
 ],
 "metadata": {
  "kernelspec": {
   "display_name": "Python 3",
   "language": "python",
   "name": "python3"
  },
  "language_info": {
   "codemirror_mode": {
    "name": "ipython",
    "version": 3
   },
   "file_extension": ".py",
   "mimetype": "text/x-python",
   "name": "python",
   "nbconvert_exporter": "python",
   "pygments_lexer": "ipython3",
   "version": "3.8.3"
  }
 },
 "nbformat": 4,
 "nbformat_minor": 4
}

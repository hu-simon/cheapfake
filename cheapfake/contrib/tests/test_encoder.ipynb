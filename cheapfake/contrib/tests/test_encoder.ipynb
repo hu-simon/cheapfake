{
 "metadata": {
  "language_info": {
   "codemirror_mode": {
    "name": "ipython",
    "version": 3
   },
   "file_extension": ".py",
   "mimetype": "text/x-python",
   "name": "python",
   "nbconvert_exporter": "python",
   "pygments_lexer": "ipython3",
   "version": "3.8.3-final"
  },
  "orig_nbformat": 2,
  "kernelspec": {
   "name": "python_defaultSpec_1597974200471",
   "display_name": "Python 3.8.3 64-bit"
  }
 },
 "nbformat": 4,
 "nbformat_minor": 2,
 "cells": [
  {
   "cell_type": "code",
   "execution_count": 1,
   "metadata": {},
   "outputs": [],
   "source": [
    "import os\n",
    "import time \n",
    "\n",
    "import torch \n",
    "from torchsummary import summary\n",
    "\n",
    "import cheapfake.contrib.models as models\n",
    "import cheapfake.contrib.dataset as dataset"
   ]
  },
  {
   "cell_type": "code",
   "execution_count": 2,
   "metadata": {
    "tags": []
   },
   "outputs": [
    {
     "output_type": "stream",
     "name": "stdout",
     "text": "----------------------------------------------------------------\n        Layer (type)               Output Shape         Param #\n================================================================\n            Conv2d-1            [-1, 4, 75, 68]              76\n       BatchNorm2d-2            [-1, 4, 75, 68]               8\n         MaxPool2d-3            [-1, 4, 37, 34]               0\n            Conv2d-4            [-1, 4, 37, 34]             148\n       BatchNorm2d-5            [-1, 4, 37, 34]               8\n         MaxPool2d-6            [-1, 4, 18, 17]               0\n           Flatten-7                 [-1, 1224]               0\n            Linear-8                  [-1, 256]         313,600\n              ReLU-9                  [-1, 256]               0\n================================================================\nTotal params: 313,840\nTrainable params: 313,840\nNon-trainable params: 0\n----------------------------------------------------------------\nInput size (MB): 0.04\nForward/backward pass size (MB): 0.45\nParams size (MB): 1.20\nEstimated Total Size (MB): 1.69\n----------------------------------------------------------------\n"
    }
   ],
   "source": [
    "model = models.FeaturesEncoder(network_type=models.NetworkType.FAN)\n",
    "summary(model, (2, 75, 68))"
   ]
  }
 ]
}
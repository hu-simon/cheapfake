{
 "cells": [
  {
   "cell_type": "code",
   "execution_count": 3,
   "metadata": {},
   "outputs": [],
   "source": [
    "import os\n",
    "import sys\n",
    "import time \n",
    "import warnings\n",
    "\n",
    "import cheapfake.contrib.dataset as dataset\n",
    "\n",
    "sys.path.insert(1, \"/home/shu/i2ai\")\n",
    "from mmid.audio_models.VGGVox import VGGVox\n",
    "from mmid.audio_models.ResNetSE34L import ResNetSE34L\n"
   ]
  },
  {
   "cell_type": "code",
   "execution_count": 4,
   "metadata": {},
   "outputs": [],
   "source": [
    "random_seed = 41\n",
    "root_path = \"/Users/shu/Documents/Datasets/DFDC_small_subset_raw\""
   ]
  },
  {
   "cell_type": "code",
   "execution_count": 5,
   "metadata": {
    "tags": []
   },
   "outputs": [
    {
     "name": "stdout",
     "output_type": "stream",
     "text": [
      "The entire operation took 4.415758848190308 seconds\n",
      "torch.Size([3, 90, 64, 128])\n",
      "torch.Size([48000])\n",
      "torch.Size([94, 1025])\n",
      "torch.Size([94, 1025])\n"
     ]
    }
   ],
   "source": [
    "dfdataset = dataset.DeepFakeDataset(root_path=root_path, random_seed=random_seed, return_tensor=True, sequential_frames=False, sequential_audio=True, stochastic=True)\n",
    "\n",
    "start_time = time.time()\n",
    "frames, audio, audio_stft = dfdataset.__getitem__(0)\n",
    "end_time = time.time()\n",
    "\n",
    "print(\"The entire operation took {} seconds\".format(end_time - start_time))\n",
    "print(frames.shape)\n",
    "print(audio.shape)\n",
    "print(audio_stft.shape)\n",
    "\n",
    "audio_stft = audio_stft.view(audio_stft.shape[0], -1)\n",
    "print(audio_stft.shape)"
   ]
  },
  {
   "cell_type": "code",
   "execution_count": null,
   "metadata": {
    "tags": []
   },
   "outputs": [],
   "source": [
    "# Feed the entire thing into VGGVox.\n",
    "model = VGGVox()\n",
    "audio_embeddings = model(audio.view(audio.shape[0], -1).float())"
   ]
  },
  {
   "cell_type": "markdown",
   "metadata": {},
   "source": [
    "Test with the ResNetSE34L model instead of VGGVox."
   ]
  },
  {
   "cell_type": "code",
   "execution_count": 7,
   "metadata": {
    "tags": []
   },
   "outputs": [
    {
     "name": "stdout",
     "output_type": "stream",
     "text": [
      "Embedding size is 256, encoder SAP.\n",
      "torch.Size([94, 256])\n"
     ]
    }
   ],
   "source": [
    "model = ResNetSE34L()\n",
    "audio_embeddings = model(audio_stft.view(audio_stft.shape[0], -1))\n",
    "print(audio_embeddings.shape)"
   ]
  },
  {
   "cell_type": "markdown",
   "metadata": {},
   "source": [
    "Looks like we are able to pass the STFT of the audio into the ResNet. So let's just use ResNet instead of VGGVox."
   ]
  },
  {
   "cell_type": "code",
   "execution_count": null,
   "metadata": {},
   "outputs": [],
   "source": []
  },
  {
   "cell_type": "code",
   "execution_count": null,
   "metadata": {},
   "outputs": [],
   "source": []
  }
 ],
 "metadata": {
  "kernelspec": {
   "display_name": "Python 3",
   "language": "python",
   "name": "python3"
  },
  "language_info": {
   "codemirror_mode": {
    "name": "ipython",
    "version": 3
   },
   "file_extension": ".py",
   "mimetype": "text/x-python",
   "name": "python",
   "nbconvert_exporter": "python",
   "pygments_lexer": "ipython3",
   "version": "3.8.3"
  }
 },
 "nbformat": 4,
 "nbformat_minor": 2
}

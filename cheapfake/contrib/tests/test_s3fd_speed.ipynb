{
 "metadata": {
  "language_info": {
   "codemirror_mode": {
    "name": "ipython",
    "version": 3
   },
   "file_extension": ".py",
   "mimetype": "text/x-python",
   "name": "python",
   "nbconvert_exporter": "python",
   "pygments_lexer": "ipython3",
   "version": "3.8.3-final"
  },
  "orig_nbformat": 2,
  "kernelspec": {
   "name": "python_defaultSpec_1597682444063",
   "display_name": "Python 3.8.3 64-bit ('torch': conda)"
  }
 },
 "nbformat": 4,
 "nbformat_minor": 2,
 "cells": [
  {
   "cell_type": "markdown",
   "metadata": {},
   "source": [
    "Tests to see how fast S3FD is and how well it integrates with FAN."
   ]
  },
  {
   "cell_type": "code",
   "execution_count": 1,
   "metadata": {},
   "outputs": [],
   "source": [
    "import os\n",
    "import time \n",
    "import warnings\n",
    "\n",
    "import cv2\n",
    "import torch\n",
    "import numpy as np\n",
    "import face_alignment\n",
    "import cheapfake.contrib.dataset as dataset\n",
    "import cheapfake.contrib.transforms as transforms"
   ]
  },
  {
   "cell_type": "code",
   "execution_count": 10,
   "metadata": {
    "tags": []
   },
   "outputs": [
    {
     "output_type": "stream",
     "name": "stdout",
     "text": "(90,)\nEntire operation took 190.65575408935547 seconds\n"
    }
   ],
   "source": [
    "random_seed = 41\n",
    "root_path = \"/Users/shu/Documents/Datasets/DFDC_sample/test\"\n",
    "\n",
    "dfdataset = dataset.DeepFakeDataset(root_path=root_path, random_seed=random_seed, sequential_audio=True, frame_transform=transforms.BatchRescale(4))\n",
    "frames, audio, _ = dfdataset.__getitem__(0)\n",
    "frames = np.einsum(\"ijkl->jikl\", frames.numpy())\n",
    "frames = torch.from_numpy(frames).float()\n",
    "fan_model = face_alignment.FaceAlignment(face_alignment.LandmarksType._2D, device=\"cpu\", face_detector=\"sfd\")\n",
    "\n",
    "start_time = time.time()\n",
    "detected_faces = fan_model.face_detector.detect_from_batch(frames)\n",
    "end_time = time.time()\n",
    "\n",
    "print(np.asarray(detected_faces).shape)\n",
    "print(\"Entire operation took {} seconds\".format(end_time - start_time))"
   ]
  },
  {
   "cell_type": "code",
   "execution_count": 11,
   "metadata": {
    "tags": []
   },
   "outputs": [
    {
     "output_type": "stream",
     "name": "stdout",
     "text": "[array([214.11594  ,  14.585735 , 249.12267  ,  60.17294  ,   0.9970307],\n      dtype=float32)]\n"
    }
   ],
   "source": [
    "print(detected_faces[0])"
   ]
  },
  {
   "cell_type": "code",
   "execution_count": null,
   "metadata": {},
   "outputs": [],
   "source": []
  },
  {
   "cell_type": "code",
   "execution_count": null,
   "metadata": {},
   "outputs": [],
   "source": []
  },
  {
   "cell_type": "code",
   "execution_count": null,
   "metadata": {},
   "outputs": [],
   "source": []
  },
  {
   "cell_type": "code",
   "execution_count": null,
   "metadata": {},
   "outputs": [],
   "source": []
  },
  {
   "cell_type": "code",
   "execution_count": null,
   "metadata": {},
   "outputs": [],
   "source": []
  }
 ]
}
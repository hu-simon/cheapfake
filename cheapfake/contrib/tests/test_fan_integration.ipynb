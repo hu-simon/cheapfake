{
 "metadata": {
  "language_info": {
   "codemirror_mode": {
    "name": "ipython",
    "version": 3
   },
   "file_extension": ".py",
   "mimetype": "text/x-python",
   "name": "python",
   "nbconvert_exporter": "python",
   "pygments_lexer": "ipython3",
   "version": 3
  },
  "orig_nbformat": 2,
  "kernelspec": {
   "name": "python_defaultSpec_1597273782214",
   "display_name": "Python 3.8.3 64-bit ('torch': conda)"
  }
 },
 "nbformat": 4,
 "nbformat_minor": 2,
 "cells": [
  {
   "cell_type": "markdown",
   "metadata": {},
   "source": [
    "Tests integration with FAN."
   ]
  },
  {
   "cell_type": "code",
   "execution_count": 12,
   "metadata": {},
   "outputs": [],
   "source": [
    "import os \n",
    "import time \n",
    "import warnings \n",
    "\n",
    "import torch\n",
    "import numpy as np\n",
    "import face_alignment\n",
    "import cheapfake.contrib.dataset as dataset\n",
    "import cheapfake.contrib.video_processor as video_processor"
   ]
  },
  {
   "cell_type": "code",
   "execution_count": 2,
   "metadata": {},
   "outputs": [],
   "source": [
    "random_seed = 41\n",
    "root_path = \"/Users/shu/Documents/Datasets/DFDC_small_subset_raw\""
   ]
  },
  {
   "cell_type": "code",
   "execution_count": 3,
   "metadata": {
    "tags": []
   },
   "outputs": [],
   "source": [
    "model = face_alignment.FaceAlignment(face_alignment.LandmarksType._2D, device=\"cpu\", face_detector=\"sfd\")"
   ]
  },
  {
   "cell_type": "code",
   "execution_count": 14,
   "metadata": {},
   "outputs": [],
   "source": [
    "dfdataset = dataset.DeepFakeDataset(root_path=root_path, channel_first=True, return_tensor=True, random_seed=random_seed, sequential_frames=False, sequential_audio=True)\n",
    "frames, audio, audio_stft = dfdataset.__getitem__(0)\n",
    "# For FAN.\n",
    "frames = np.einsum(\"ijkl->jikl\", frames)\n",
    "frames = torch.from_numpy(frames).float()\n",
    "frames_processor = video_processor.FramesProcessor(verbose=True, channel_first=True, return_rgb=True, random_seed=41)\n",
    "predictions = frames_processor.batch_extract_landmarks(frames, device=\"cpu\", detector=\"sfd\")"
   ]
  },
  {
   "cell_type": "code",
   "execution_count": null,
   "metadata": {},
   "outputs": [],
   "source": []
  },
  {
   "cell_type": "code",
   "execution_count": null,
   "metadata": {},
   "outputs": [],
   "source": []
  },
  {
   "cell_type": "code",
   "execution_count": null,
   "metadata": {},
   "outputs": [],
   "source": []
  },
  {
   "cell_type": "code",
   "execution_count": null,
   "metadata": {},
   "outputs": [],
   "source": []
  }
 ]
}
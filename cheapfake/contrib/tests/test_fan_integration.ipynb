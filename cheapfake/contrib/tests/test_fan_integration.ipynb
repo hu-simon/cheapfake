{
 "metadata": {
  "language_info": {
   "codemirror_mode": {
    "name": "ipython",
    "version": 3
   },
   "file_extension": ".py",
   "mimetype": "text/x-python",
   "name": "python",
   "nbconvert_exporter": "python",
   "pygments_lexer": "ipython3",
   "version": "3.8.3-final"
  },
  "orig_nbformat": 2,
  "kernelspec": {
   "name": "python_defaultSpec_1597706011268",
   "display_name": "Python 3.8.3 64-bit ('torch': conda)"
  }
 },
 "nbformat": 4,
 "nbformat_minor": 2,
 "cells": [
  {
   "cell_type": "markdown",
   "metadata": {},
   "source": [
    "Tests integration with FAN."
   ]
  },
  {
   "cell_type": "code",
   "execution_count": 1,
   "metadata": {},
   "outputs": [],
   "source": [
    "import os \n",
    "import time \n",
    "import warnings \n",
    "\n",
    "import torch\n",
    "import numpy as np\n",
    "import face_alignment\n",
    "import cheapfake.contrib.dataset as dataset\n",
    "from cheapfake.contrib.models import CheapFake\n",
    "import cheapfake.contrib.transforms as transforms\n",
    "import cheapfake.contrib.video_processor as video_processor"
   ]
  },
  {
   "cell_type": "code",
   "execution_count": null,
   "metadata": {},
   "outputs": [],
   "source": [
    "random_seed = 41\n",
    "root_path = \"/Users/shu/Documents/Datasets/DFDC_small_subset_raw\""
   ]
  },
  {
   "cell_type": "code",
   "execution_count": null,
   "metadata": {
    "tags": []
   },
   "outputs": [],
   "source": [
    "model = face_alignment.FaceAlignment(face_alignment.LandmarksType._2D, device=\"cpu\", face_detector=\"sfd\")"
   ]
  },
  {
   "cell_type": "code",
   "execution_count": null,
   "metadata": {},
   "outputs": [],
   "source": [
    "dfdataset = dataset.DeepFakeDataset(root_path=root_path, channel_first=True, return_tensor=True, random_seed=random_seed, sequential_frames=False, sequential_audio=True)\n",
    "frames, audio, audio_stft = dfdataset.__getitem__(0)\n",
    "# For FAN.\n",
    "frames = np.einsum(\"ijkl->jikl\", frames)\n",
    "frames = torch.from_numpy(frames).float()\n",
    "frames_processor = video_processor.FramesProcessor(verbose=True, channel_first=True, return_rgb=True, random_seed=41)\n",
    "predictions = frames_processor.batch_extract_landmarks(frames, device=\"cpu\", detector=\"sfd\")"
   ]
  },
  {
   "cell_type": "markdown",
   "metadata": {},
   "source": [
    "Testing FAN integration after permutting for LipNet removed."
   ]
  },
  {
   "cell_type": "code",
   "execution_count": 2,
   "metadata": {
    "tags": []
   },
   "outputs": [],
   "source": [
    "random_seed = 41\n",
    "root_path = \"/Users/shu/Documents/Datasets/DFDC_sample/train\"\n",
    "\n",
    "model = face_alignment.FaceAlignment(face_alignment.LandmarksType._2D, device=\"cpu\", face_detector=\"sfd\")\n",
    "dfdataset = dataset.DeepFakeDataset(root_path=root_path, random_seed=random_seed, frame_transform=transforms.BatchRescale(4), sequential_audio=True)\n",
    "frames, audio, audio_stft = dfdataset.__getitem__(0)"
   ]
  },
  {
   "cell_type": "code",
   "execution_count": 3,
   "metadata": {
    "tags": []
   },
   "outputs": [
    {
     "output_type": "stream",
     "name": "stdout",
     "text": "Entire operation took 284.8081967830658 seconds\nPrediction operation took 284.8081967830658 seconds\n"
    }
   ],
   "source": [
    "start_time = time.time()\n",
    "cheapfake_model = CheapFake()\n",
    "intermediate_time = time.time()\n",
    "predictions = cheapfake_model(frames.float())\n",
    "end_time = time.time()\n",
    "\n",
    "print(\"Entire operation took {} seconds\".format(end_time - start_time))\n",
    "print(\"Prediction operation took {} seconds\".format(end_time - start_time))"
   ]
  },
  {
   "cell_type": "code",
   "execution_count": null,
   "metadata": {},
   "outputs": [],
   "source": []
  },
  {
   "cell_type": "code",
   "execution_count": null,
   "metadata": {},
   "outputs": [],
   "source": []
  },
  {
   "cell_type": "code",
   "execution_count": null,
   "metadata": {},
   "outputs": [],
   "source": []
  },
  {
   "cell_type": "code",
   "execution_count": null,
   "metadata": {},
   "outputs": [],
   "source": []
  },
  {
   "cell_type": "code",
   "execution_count": null,
   "metadata": {},
   "outputs": [],
   "source": []
  }
 ]
}
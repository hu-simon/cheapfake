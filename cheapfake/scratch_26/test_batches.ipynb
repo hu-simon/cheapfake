{
 "cells": [
  {
   "cell_type": "markdown",
   "metadata": {},
   "source": [
    "Tests batch evaluation on video frames."
   ]
  },
  {
   "cell_type": "code",
   "execution_count": 1,
   "metadata": {},
   "outputs": [
    {
     "name": "stderr",
     "output_type": "stream",
     "text": [
      "/home/shu/cheapfake/cheapfake/contrib/video_processor.py:527: SyntaxWarning: \"is\" with a literal. Did you mean \"==\"?\n",
      "  if device is \"cuda\":\n",
      "/home/shu/cheapfake/cheapfake/contrib/video_processor.py:592: SyntaxWarning: \"is\" with a literal. Did you mean \"==\"?\n",
      "  if device is \"cuda\":\n"
     ]
    }
   ],
   "source": [
    "import os\n",
    "import time\n",
    "\n",
    "import cv2\n",
    "import numpy as np\n",
    "\n",
    "import cheapfake.contrib.video_processor as video_processor"
   ]
  },
  {
   "cell_type": "code",
   "execution_count": 2,
   "metadata": {},
   "outputs": [
    {
     "name": "stdout",
     "output_type": "stream",
     "text": [
      "Entire operation took 46.47653079032898 seconds.\n"
     ]
    }
   ],
   "source": [
    "video_path = \"/home/shu/shu/Datasets/DFDC_small_subset/aagfhgtpmv/video/aagfhgtpmv.mp4\"\n",
    "videofileprocessor = video_processor.VideoFileProcessor(verbose=True)\n",
    "frames = videofileprocessor.extract_all_frames(\n",
    "    video_path=video_path, channel_first=False, return_rgb=True\n",
    ")\n",
    "frames_subset = frames[:75]\n",
    "\n",
    "scale_factor = 4\n",
    "new_height = int(frames_subset[0].shape[0] / scale_factor)\n",
    "new_width = int(frames_subset[0].shape[1] / scale_factor)\n",
    "frames_resized = [\n",
    "    cv2.resize(\n",
    "        frame, dsize=(new_width, new_height), interpolation=cv2.INTER_LANCZOS4\n",
    "    )\n",
    "    for frame in frames_subset\n",
    "]\n",
    "\n",
    "framesprocessor = video_processor.FramesProcessor(verbose=True)\n",
    "start_time = time.time()\n",
    "batch_landmarks = framesprocessor.batch_extract_landmarks(\n",
    "    frames_resized, device=\"cuda\", channels_first=False\n",
    ")\n",
    "end_time = time.time()\n",
    "print(\"Entire operation took {} seconds.\".format(end_time - start_time))"
   ]
  },
  {
   "cell_type": "code",
   "execution_count": null,
   "metadata": {},
   "outputs": [],
   "source": []
  }
 ],
 "metadata": {
  "kernelspec": {
   "display_name": "Python 3",
   "language": "python",
   "name": "python3"
  },
  "language_info": {
   "codemirror_mode": {
    "name": "ipython",
    "version": 3
   },
   "file_extension": ".py",
   "mimetype": "text/x-python",
   "name": "python",
   "nbconvert_exporter": "python",
   "pygments_lexer": "ipython3",
   "version": "3.8.3"
  }
 },
 "nbformat": 4,
 "nbformat_minor": 4
}
